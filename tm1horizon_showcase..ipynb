{
 "metadata": {
  "language_info": {
   "codemirror_mode": {
    "name": "ipython",
    "version": 3
   },
   "file_extension": ".py",
   "mimetype": "text/x-python",
   "name": "python",
   "nbconvert_exporter": "python",
   "pygments_lexer": "ipython3",
   "version": "3.7.6-final"
  },
  "orig_nbformat": 2,
  "kernelspec": {
   "name": "python3",
   "display_name": "Python 3"
  }
 },
 "nbformat": 4,
 "nbformat_minor": 2,
 "cells": [
  {
   "cell_type": "markdown",
   "metadata": {},
   "source": [
    "# Automate the boring stuff with tm1py\n",
    "## Christoph Hein – DB Systel GmbH"
   ]
  },
  {
   "cell_type": "markdown",
   "metadata": {},
   "source": [
    "---\n",
    "## Getting started\n",
    "Prerequisites\n",
    "- Any Planning Analytics Version\n",
    "- Open HTTPPort (firewall, etc. )\n",
    "- Python 3 and tm1py (maybe other awesome packages)\n",
    "\n"
   ]
  },
  {
   "cell_type": "code",
   "execution_count": null,
   "metadata": {},
   "outputs": [],
   "source": [
    "from TM1py.Services import TM1Service\n",
    "\n",
    "# credentials\n",
    "tm1_credentials = {\n",
    "    \"address\":\"localhost\", \n",
    "    \"port\": \"5001\",\n",
    "    \"user\": \"admin\", \n",
    "    \"password\": \"apple\", \n",
    "    \"ssl\": \"True\"\n",
    "}\n",
    "\n",
    "\n",
    "\n",
    "# other useful modules\n",
    "import pandas as pd\n",
    "from matplotlib import pyplot\n",
    "import numpy as np\n",
    "import networkx as nx\n",
    "from netwulf import visualize\n",
    "import re\n",
    "from IPython.display import Markdown, display"
   ]
  },
  {
   "cell_type": "markdown",
   "metadata": {},
   "source": [
    "---\n",
    "## Configuration\n",
    "### Get product version"
   ]
  },
  {
   "cell_type": "code",
   "execution_count": null,
   "metadata": {
    "tags": []
   },
   "outputs": [],
   "source": [
    "with TM1Service(address=tm1_credentials['address'], port=tm1_credentials['port'], user=tm1_credentials['user']\n",
    ", password=tm1_credentials['password'],ssl=tm1_credentials['ssl'] ) as tm1: \n",
    "    tm1Version = tm1.server.get_product_version()\n",
    "    print('Current TM1 version is ' + tm1Version)"
   ]
  },
  {
   "cell_type": "markdown",
   "metadata": {},
   "source": [
    "### Change configuration"
   ]
  },
  {
   "cell_type": "code",
   "execution_count": null,
   "metadata": {
    "tags": []
   },
   "outputs": [],
   "source": [
    "with TM1Service(address=tm1_credentials['address'], port=tm1_credentials['port'], user=tm1_credentials['user']\n",
    ", password=tm1_credentials['password'],ssl=tm1_credentials['ssl'] ) as tm1: \n",
    "    staticConfiguration = tm1.server.get_static_configuration()\n",
    "    print('NumberOfThreadsToUse is ' + str(staticConfiguration['Performance']['MTQ']['NumberOfThreadsToUse']))"
   ]
  },
  {
   "cell_type": "code",
   "execution_count": null,
   "metadata": {
    "tags": []
   },
   "outputs": [],
   "source": [
    "changedConfiguration = {'Performance':{'MTQ': {'NumberOfThreadsToUse':4}}}\n",
    "with TM1Service(address=tm1_credentials['address'], port=tm1_credentials['port'], user=tm1_credentials['user']\n",
    ", password=tm1_credentials['password'],ssl=tm1_credentials['ssl'] ) as tm1: \n",
    "    tm1.server.update_static_configuration(changedConfiguration)\n",
    "    staticConfiguration = tm1.server.get_static_configuration()\n",
    "    print('NumberOfThreadsToUse is ' + str(staticConfiguration['Performance']['MTQ']['NumberOfThreadsToUse']))\n"
   ]
  },
  {
   "cell_type": "markdown",
   "metadata": {},
   "source": [
    "### Monitor usage"
   ]
  },
  {
   "cell_type": "code",
   "execution_count": null,
   "metadata": {},
   "outputs": [],
   "source": [
    "with TM1Service(address=tm1_credentials['address'], port=tm1_credentials['port'], user=tm1_credentials['user']\n",
    ", password=tm1_credentials['password'],ssl=tm1_credentials['ssl'] ) as tm1: \n",
    "    activeUsers = tm1.monitoring.get_active_users()"
   ]
  },
  {
   "cell_type": "code",
   "execution_count": null,
   "metadata": {
    "tags": []
   },
   "outputs": [],
   "source": [
    "# do something with the data\n",
    "df = pd.DataFrame(columns=['name', 'friendlyname','type'])\n",
    "for x in activeUsers:\n",
    "    df = df.append({'name': x._name, 'friendlyname': x._friendly_name, 'type': x.user_type  }, ignore_index=True)\n",
    "print(df)"
   ]
  },
  {
   "cell_type": "markdown",
   "metadata": {},
   "source": [
    "---\n",
    "## Message log\n",
    "### Get startup time"
   ]
  },
  {
   "cell_type": "code",
   "execution_count": null,
   "metadata": {},
   "outputs": [],
   "source": [
    "with TM1Service(address=tm1_credentials['address'], port=tm1_credentials['port'], user=tm1_credentials['user']\n",
    ", password=tm1_credentials['password'],ssl=tm1_credentials['ssl'] ) as tm1: \n",
    "    messagelog = tm1.server.get_message_log_entries(reverse=False )"
   ]
  },
  {
   "cell_type": "code",
   "execution_count": null,
   "metadata": {
    "tags": []
   },
   "outputs": [],
   "source": [
    "df = pd.DataFrame(columns=['timestamp', 'duration'])\n",
    "for x in messagelog:\n",
    "    if x['Message'].find('TM1 Server is ready, elapsed time ') > -1:\n",
    "        f_StartupTime  = float(x['Message'][34:x['Message'].find(' seconds')])\n",
    "        df = df.append({'timestamp': x['TimeStamp'][:-1], 'duration': f_StartupTime}, ignore_index=True)\n",
    "df['timestamp'] = pd.to_datetime(df['timestamp'], format='%Y-%m-%dT%H:%M:%S.%f')\n",
    "df = df.set_index('timestamp')\n",
    "print(df)"
   ]
  },
  {
   "cell_type": "code",
   "execution_count": null,
   "metadata": {},
   "outputs": [],
   "source": [
    "#plot it\n",
    "df['duration'].plot(linewidth=0.5)\n",
    "pyplot.show()"
   ]
  },
  {
   "cell_type": "markdown",
   "metadata": {},
   "source": [
    "### Calculate feeder load time"
   ]
  },
  {
   "cell_type": "code",
   "execution_count": null,
   "metadata": {},
   "outputs": [],
   "source": [
    "with TM1Service(address=tm1_credentials['address'], port=tm1_credentials['port'], user=tm1_credentials['user']\n",
    ", password=tm1_credentials['password'],ssl=tm1_credentials['ssl'] ) as tm1: \n",
    "    messagelog = tm1.server.get_message_log_entries(reverse=False )\n",
    "    cubeContent = tm1.cubes.get_all()"
   ]
  },
  {
   "cell_type": "code",
   "execution_count": null,
   "metadata": {
    "tags": []
   },
   "outputs": [],
   "source": [
    "# get a list of cubes with feeders\n",
    "listOfCubesWithFeeders = []\n",
    "for x in cubeContent:\n",
    "    if x.has_rules == True:\n",
    "        if x.rules.has_feeders == True:\n",
    "            listOfCubesWithFeeders.append(x._name)\n",
    "print(listOfCubesWithFeeders)"
   ]
  },
  {
   "cell_type": "code",
   "execution_count": null,
   "metadata": {
    "tags": []
   },
   "outputs": [],
   "source": [
    "df = pd.DataFrame(columns=['timestamp_start', 'timestamp_end','cube','new' , 'duplicate' , 'ignored' ])\n",
    "# parse message log,\n",
    "for x in messagelog:\n",
    "\n",
    "    # compare startup time server \n",
    "    s_Date = x['TimeStamp'][0:10]\n",
    "    s_DateTime = x['TimeStamp'][:-1]\n",
    "    s_LogType = x['Logger']\n",
    "    s_Message = x['Message']\n",
    "\n",
    "    # normally processed feeders\n",
    "    if x['Message'].find('Feeders created in cube ') > -1:\n",
    "        s_CubeName = x['Message'][x['Message'].find('cube \"')+6:x['Message'].find('\": new')]\n",
    "        n_new = int(x['Message'][x['Message'].find(': new ')+6:x['Message'].find(', duplicate')])\n",
    "        n_duplicate = int(x['Message'][x['Message'].find(', duplicate ')+12:x['Message'].find(', ignored')])\n",
    "        n_ignored = int(x['Message'][x['Message'].find(', ignored ')+10:])\n",
    "        b_Add2DF = True\n",
    "        \n",
    "    # Persistent Feeders\n",
    "    elif s_Message.find('Feeders already loaded for cube ') > -1:\n",
    "        s_CubeName = s_Message[s_Message.find('cube \"')+6:s_Message.find('\": new')]\n",
    "        n_new = 0\n",
    "        n_duplicate = 0\n",
    "        n_ignored = 0\n",
    "        b_Add2DF = True\n",
    "\n",
    "        if s_CubeName in listOfCubesWithFeeders & b_Add2DF == True:\n",
    "            df = df.append({'timestamp_start': s_PrevTimestamp, 'timestamp_end': s_DateTime, 'cube': s_CubeName,'new':n_new , 'duplicate':n_duplicate , 'ignored':n_ignored  }, ignore_index=True)\n",
    "\n",
    "    s_PrevTimestamp = s_DateTime\n",
    "\n",
    "df['timestamp_start'] = pd.to_datetime(df['timestamp_start'], format='%Y-%m-%dT%H:%M:%S.%f')\n",
    "df['timestamp_end'] = pd.to_datetime(df['timestamp_end'], format='%Y-%m-%dT%H:%M:%S.%f')\n",
    "\n",
    "df['duration'] = df['timestamp_end'] - df['timestamp_start']\n",
    "df['duration'] = (df['duration']/np.timedelta64(1,'s'))\n",
    "\n",
    "print(df)\n"
   ]
  },
  {
   "cell_type": "markdown",
   "metadata": {},
   "source": [
    "---\n",
    "## Processes\n",
    "### Generate documentation"
   ]
  },
  {
   "cell_type": "code",
   "execution_count": null,
   "metadata": {},
   "outputs": [],
   "source": [
    "with TM1Service(address=tm1_credentials['address'], port=tm1_credentials['port'], user=tm1_credentials['user']\n",
    ", password=tm1_credentials['password'],ssl=tm1_credentials['ssl'] ) as tm1: \n",
    "    processes =  tm1.processes.get_all()"
   ]
  },
  {
   "cell_type": "code",
   "execution_count": null,
   "metadata": {
    "tags": []
   },
   "outputs": [],
   "source": [
    "for process in processes:\n",
    "        if process.parameters :\n",
    "            display(Markdown('**' + process.name + '**'))\n",
    "            listParameters = []\n",
    "            for parameter in process.parameters:\n",
    "                listParameters.append(parameter['Name'] + ' (*' + parameter['Type'] + '*), ')\n",
    "            mystring = ''.join(listParameters)\n",
    "            display(Markdown(mystring))"
   ]
  },
  {
   "cell_type": "markdown",
   "metadata": {},
   "source": [
    "---\n",
    "## User management\n",
    "#### Get user information from instance"
   ]
  },
  {
   "cell_type": "code",
   "execution_count": null,
   "metadata": {
    "tags": []
   },
   "outputs": [],
   "source": [
    "with TM1Service(address=tm1_credentials['address'], port=tm1_credentials['port'], user=tm1_credentials['user']\n",
    ", password=tm1_credentials['password'],ssl=tm1_credentials['ssl'] ) as tm1: \n",
    "    users =  tm1.security.get_all_users()"
   ]
  },
  {
   "cell_type": "code",
   "execution_count": null,
   "metadata": {
    "tags": []
   },
   "outputs": [],
   "source": [
    "df = pd.DataFrame(columns=['server','user','type' , 'status' ])\n",
    "for user in users:\n",
    "    df = df.append({'server': 'server01','user': user._name.lower().replace(\" \", \"\"),'type':str(user._user_type) , 'status':str(user._enabled ) }, ignore_index=True)\n",
    "print(df)"
   ]
  },
  {
   "cell_type": "markdown",
   "metadata": {},
   "source": [
    "#### Add another instance"
   ]
  },
  {
   "cell_type": "code",
   "execution_count": null,
   "metadata": {
    "tags": []
   },
   "outputs": [],
   "source": [
    "with TM1Service(address=tm1_credentials['address'], port=tm1_credentials['port'], user=tm1_credentials['user']\n",
    ", password=tm1_credentials['password'],ssl=tm1_credentials['ssl'] ) as tm1: \n",
    "    users =  tm1.security.get_all_users()"
   ]
  },
  {
   "cell_type": "code",
   "execution_count": null,
   "metadata": {
    "tags": []
   },
   "outputs": [],
   "source": [
    "for user in users:\n",
    "    df = df.append({'server': 'server02','user': user._name.lower().replace(\" \", \"\"),'type':str(user._user_type) , 'status':str(user._enabled ) }, ignore_index=True)\n",
    "print(df)"
   ]
  },
  {
   "cell_type": "markdown",
   "metadata": {},
   "source": [
    "#### edge cases\n",
    "##### read only users\n",
    "The read only flag is currently not exposed via the rest api. \n",
    "My personal opinion is that ibm SHOULD expose it. But for now we need to use a workaround. "
   ]
  },
  {
   "cell_type": "code",
   "execution_count": null,
   "metadata": {},
   "outputs": [],
   "source": [
    "\n",
    "with TM1Service(address=tm1_credentials['address'], port=tm1_credentials['port'], user=tm1_credentials['user']\n",
    ", password=tm1_credentials['password'],ssl=tm1_credentials['ssl'] ) as tm1: \n",
    "    cubeContent =  tm1.cells.execute_mdx_rows_and_values('SELECT {[}ClientProperties].[ReadOnlyUser]} ON COLUMNS, {[}Clients].MEMBERS} ON ROWS FROM [}ClientProperties]')"
   ]
  },
  {
   "cell_type": "code",
   "execution_count": null,
   "metadata": {
    "tags": []
   },
   "outputs": [],
   "source": [
    "df = pd.DataFrame(columns=['ipadress', 'port','user','type' , 'status' ])\n",
    "for user in cubeContent:\n",
    "    username = str(user[0]).replace('[}Clients].[}Clients].[','').replace(']','')\n",
    "    if str(cubeContent[user][0]) == 'None':\n",
    "        s_userright = 'WRITE'\n",
    "    else:\n",
    "        s_userright = 'READ'\n",
    "    df = df.append({'ipadress': tm1_credentials['address'], 'port': tm1_credentials['port'],'user': username,'type':s_userright , 'status':'NA' }, ignore_index=True)\n",
    "print(df)\n",
    "\n"
   ]
  },
  {
   "cell_type": "markdown",
   "metadata": {},
   "source": [
    "##### CAM user\n",
    "CAM users in tm1 have no proper user id in the client dimension. Therefore the display name must be used. \n",
    "Please notice that that might not always bring the intended results. "
   ]
  },
  {
   "cell_type": "code",
   "execution_count": null,
   "metadata": {
    "tags": []
   },
   "outputs": [],
   "source": [
    "# with CAM use friendly name instead to avoid CAM user id and maybe do some string operations\n",
    "listOfCAMUsers = ['MyDomain\\\\FirstUser', 'Mydomain\\\\SecondUser', 'mydomain//ThirdUser']\n",
    "for user in listOfCAMUsers:\n",
    "    user_Name = user.lower().replace('mydomain', '').replace('\\\\', '').replace('/', '')\n",
    "    print(user_Name)"
   ]
  },
  {
   "cell_type": "markdown",
   "metadata": {},
   "source": []
  }
 ]
}